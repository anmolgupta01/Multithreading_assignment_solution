{
 "cells": [
  {
   "cell_type": "markdown",
   "id": "56b1b1e9",
   "metadata": {},
   "source": [
    "q1]. what is multithreading in python? why is it used? Name the module used to handle threads in python."
   ]
  },
  {
   "cell_type": "markdown",
   "id": "21906731",
   "metadata": {},
   "source": [
    "Multithreading in Python refers to the concurrent execution of multiple threads within a single process. A thread is the smallest unit of execution within a process, and multithreading allows you to perform multiple tasks concurrently, leveraging the capabilities of modern multi-core processors.\n",
    "In a multithreaded application, each thread runs independently and can execute different parts of the code simultaneously. This can lead to improved performance and responsiveness, especially in situations where tasks can be performed concurrently, such as I/O-bound operations or tasks that can be parallelized.\n",
    "\n",
    "Multithreading is used to:\n",
    "\n",
    "Improve Performance: Multithreading can make better use of available CPU cores, leading to improved execution speed for certain types of tasks.\n",
    "\n",
    "Concurrency: It allows you to perform multiple tasks concurrently, which can enhance the overall responsiveness of an application.\n",
    "\n",
    "I/O-Bound Operations: When tasks involve waiting for external resources (e.g., file I/O, network operations), multithreading can help avoid blocking the entire program while waiting.\n",
    "\n",
    "Parallelism: For tasks that can be split into smaller subtasks, multithreading can achieve parallel execution and utilize multiple CPU cores effectively.\n",
    "\n",
    "Real-time Systems: Multithreading can be used in real-time systems where tasks need to be executed promptly and concurrently.\n",
    "\n",
    "Python provides the threading module for handling threads and multithreading. "
   ]
  },
  {
   "cell_type": "code",
   "execution_count": 1,
   "id": "14c77ee6",
   "metadata": {},
   "outputs": [],
   "source": [
    "#example\n",
    "import logging\n",
    "import threading\n",
    "logging.basicConfig(filename = \"loggingg.log\" , level = logging.INFO)\n",
    "try:\n",
    "    def test(id):\n",
    "        logging.info(\"prog start {}\".format(id))\n",
    "except Error as e:\n",
    "    logging.info(\"handling error\")\n",
    "thread = [threading.Thread(target=test , args=(i,) )for i in range(10)]\n",
    "for t in thread : \n",
    "    t.start()\n"
   ]
  },
  {
   "cell_type": "markdown",
   "id": "9e66a330",
   "metadata": {},
   "source": [
    "Q2. why threading module used? write the use of the following functions.\n",
    "1. activeCount()\n",
    "2. currentThread()\n",
    "3. enumerate()"
   ]
  },
  {
   "cell_type": "markdown",
   "id": "afb324e6",
   "metadata": {},
   "source": [
    "The threading module in Python is used for creating and managing threads, which are small units of execution that can run concurrently within a single process. This module provides a higher-level interface to working with threads compared to the lower-level thread module. Threading is particularly useful for handling I/O-bound operations, such as network communication or file I/O, where waiting for the operation to complete can be done more efficiently by allowing other threads to continue working in the meantime.\n",
    "\n",
    "# activeCount():\n",
    "This function returns the number of Thread objects currently alive. It counts all threads that have been created and not yet terminated, including the main thread. This function is useful to get an overview of how many threads are currently running in your program.\n",
    "\n",
    "# currentThread(): \n",
    "This function returns the current Thread object corresponding to the caller's thread. It allows you to obtain a reference to the thread that is currently executing the code. This can be useful for various purposes, such as setting thread-specific attributes or identifying the current thread in multi-threaded scenarios.\n",
    "\n",
    "# enumerate(): \n",
    "This function returns a list of all Thread objects currently alive. It returns a list of Thread objects that represent all threads that have been created and not yet terminated. This function is useful when you want to get a list of all active threads and perform some operation on each of them, such as checking their status or terminating them."
   ]
  },
  {
   "cell_type": "code",
   "execution_count": 2,
   "id": "65a6479f",
   "metadata": {},
   "outputs": [
    {
     "name": "stderr",
     "output_type": "stream",
     "text": [
      "C:\\Users\\getan\\AppData\\Local\\Temp\\ipykernel_9168\\1824699676.py:9: DeprecationWarning: currentThread() is deprecated, use current_thread() instead\n",
      "  logging.info(f\"Thread {threading.currentThread().getName()} is starting.\")\n",
      "C:\\Users\\getan\\AppData\\Local\\Temp\\ipykernel_9168\\1824699676.py:9: DeprecationWarning: getName() is deprecated, get the name attribute instead\n",
      "  logging.info(f\"Thread {threading.currentThread().getName()} is starting.\")\n",
      "C:\\Users\\getan\\AppData\\Local\\Temp\\ipykernel_9168\\1824699676.py:21: DeprecationWarning: activeCount() is deprecated, use active_count() instead\n",
      "  logging.info(f\"Number of active threads: {threading.activeCount()}\")\n",
      "C:\\Users\\getan\\AppData\\Local\\Temp\\ipykernel_9168\\1824699676.py:24: DeprecationWarning: getName() is deprecated, get the name attribute instead\n",
      "  logging.info(f\"Thread name: {thread.getName()}, Thread ID: {thread.ident}\")\n",
      "C:\\Users\\getan\\AppData\\Local\\Temp\\ipykernel_9168\\1824699676.py:11: DeprecationWarning: currentThread() is deprecated, use current_thread() instead\n",
      "  logging.info(f\"Thread {threading.currentThread().getName()} is ending.\")\n",
      "C:\\Users\\getan\\AppData\\Local\\Temp\\ipykernel_9168\\1824699676.py:11: DeprecationWarning: getName() is deprecated, get the name attribute instead\n",
      "  logging.info(f\"Thread {threading.currentThread().getName()} is ending.\")\n"
     ]
    }
   ],
   "source": [
    "import threading\n",
    "import time\n",
    "import logging\n",
    "logging.basicConfig(filename = \"thread.log\" , level = logging.INFO)\n",
    "\n",
    "\n",
    "def worker():\n",
    "    try:\n",
    "        logging.info(f\"Thread {threading.currentThread().getName()} is starting.\")\n",
    "        time.sleep(2)\n",
    "        logging.info(f\"Thread {threading.currentThread().getName()} is ending.\")\n",
    "    except Error as e:\n",
    "        logging.info(\"handling error\")\n",
    "threads = []\n",
    "\n",
    "for _ in range(3):\n",
    "    thread = threading.Thread(target=worker)\n",
    "    threads.append(thread)\n",
    "    thread.start()\n",
    "\n",
    "logging.info(f\"Number of active threads: {threading.activeCount()}\")\n",
    "\n",
    "for thread in threading.enumerate():\n",
    "    logging.info(f\"Thread name: {thread.getName()}, Thread ID: {thread.ident}\")\n",
    "\n",
    "for thread in threads:\n",
    "    thread.join()\n",
    "\n",
    "logging.info(\"All threads have finished.\")\n"
   ]
  },
  {
   "cell_type": "markdown",
   "id": "b5ae0c79",
   "metadata": {},
   "source": [
    "Q3. Explain the following functions.\n",
    "1. run()\n",
    "2. start()\n",
    "3. join()\n",
    "4. isAlive()"
   ]
  },
  {
   "cell_type": "markdown",
   "id": "50e97861",
   "metadata": {},
   "source": [
    "# run(): \n",
    "This method is not a standalone function but a method that you can override in your own thread class. When you subclass the Thread class and override the run() method, the code you provide in the run() method will be executed when the thread starts. This method encapsulates the behavior you want the thread to perform."
   ]
  },
  {
   "cell_type": "code",
   "execution_count": 3,
   "id": "6e3f36d8",
   "metadata": {},
   "outputs": [],
   "source": [
    "import logging\n",
    "import threading\n",
    "\n",
    "logging.basicConfig(filename=\"thread.log\", level=logging.INFO)\n",
    "\n",
    "class MyThread(threading.Thread):\n",
    "    def run(self):\n",
    "        try:\n",
    "            logging.info(\"Thread is running!\")\n",
    "        except RuntimeError as e:\n",
    "            logging.info(\"Handling error: \" + str(e))\n",
    "\n",
    "# Create and start the thread\n",
    "my_thread = MyThread()\n",
    "my_thread.start()\n"
   ]
  },
  {
   "cell_type": "markdown",
   "id": "d3e32f9a",
   "metadata": {},
   "source": [
    "# start():\n",
    "This method is used to start a thread's execution. When you call the start() method on a Thread object, it internally calls the run() method of the thread. It's important to note that you should call start() to begin thread execution, not directly call the run() method. Directly calling run() won't create a new thread; it will simply execute the code in the calling thread."
   ]
  },
  {
   "cell_type": "code",
   "execution_count": 4,
   "id": "8d60abdb",
   "metadata": {},
   "outputs": [],
   "source": [
    "import threading\n",
    "import logging\n",
    "\n",
    "logging.basicConfig(filename=\"thread.log\", level=logging.INFO)\n",
    "\n",
    "def worker():\n",
    "    try:\n",
    "        logging.info(\"Thread is running!\")\n",
    "    except RuntimeError as e:\n",
    "        logging.info(\"Handling error: \" + str(e))\n",
    "\n",
    "# Create a thread and start its execution\n",
    "my_thread = threading.Thread(target=worker)\n",
    "my_thread.start()\n"
   ]
  },
  {
   "cell_type": "markdown",
   "id": "88ea4b40",
   "metadata": {},
   "source": [
    "# join:\n",
    "This method blocks the calling thread until the thread on which it's called completes its execution. It is used to synchronize the execution of threads. When you call join() on a thread, the calling thread waits for the target thread to finish before it continues executing."
   ]
  },
  {
   "cell_type": "code",
   "execution_count": 5,
   "id": "7557e8db",
   "metadata": {},
   "outputs": [],
   "source": [
    "import threading\n",
    "import logging\n",
    "logging.basicConfig(filename = \"thread.log\" , level = logging.INFO)\n",
    "\n",
    "def worker():\n",
    "    try:\n",
    "        logging.info(\"Thread is running!\")\n",
    "    except RuntimeError as e:\n",
    "        logging.info(\"Handling error: \" + str(e))\n",
    "        \n",
    "# Create a thread and start its execution\n",
    "my_thread = threading.Thread(target=worker)\n",
    "my_thread.start()\n",
    "\n",
    "# Wait for the thread to finish before continuing\n",
    "my_thread.join()\n",
    "logging.info(\"Thread has finished.\")\n"
   ]
  },
  {
   "cell_type": "markdown",
   "id": "25180b7a",
   "metadata": {},
   "source": [
    "# isAlive():\n",
    "This method is used to check if a thread is currently running. It returns True if the thread has started and is still running, and False if the thread has finished or hasn't started yet."
   ]
  },
  {
   "cell_type": "code",
   "execution_count": 6,
   "id": "d9e87e18",
   "metadata": {},
   "outputs": [],
   "source": [
    "import threading\n",
    "import logging\n",
    "logging.basicConfig(filename = \"thread.log\" , level = logging.INFO)\n",
    "def worker():\n",
    "    try:\n",
    "        logging.info(\"Thread is running!\")\n",
    "    except threadError as e:\n",
    "        logging.info(\"handling error\" + str(e))\n",
    "\n",
    "# Create a thread and start its execution\n",
    "my_thread = threading.Thread(target=worker)\n",
    "my_thread.start()\n",
    "\n",
    "# Check if the thread is alive\n",
    "if my_thread.is_alive():\n",
    "    logging.info(\"Thread is still running.\")\n",
    "else:\n",
    "    logging.info(\"Thread has finished.\")\n"
   ]
  },
  {
   "cell_type": "markdown",
   "id": "85ec61bc",
   "metadata": {},
   "source": [
    "Q4.  Write a python program to create two threads. Thread one must print the list of squares and thread \n",
    "two must print the list of cubes."
   ]
  },
  {
   "cell_type": "code",
   "execution_count": 7,
   "id": "94fdf37a",
   "metadata": {},
   "outputs": [],
   "source": [
    "import threading\n",
    "import logging\n",
    "logging.basicConfig(filename = \"threading.log\" , level = logging.INFO)\n",
    "\n",
    "def square(number):\n",
    "    try:\n",
    "        for num in number:\n",
    "            logging.info(f\"Square of {num}: {num ** 2}\")\n",
    "    except ArithmeticError as e:\n",
    "        logging.info(\"handling error\"+str(e))\n",
    "\n",
    "def cube(number):\n",
    "    try:\n",
    "        for num in number:\n",
    "            logging.info(f\"Square of {num}: {num ** 3}\")\n",
    "    except ArithmeticError as e:\n",
    "        logging.info(\"handling error\"+str(e))\n",
    "    \n",
    "\n",
    "def main():\n",
    "    try:\n",
    "        num = int(input(\"Enter a number up to which to iterate: \"))\n",
    "    except ValueError:\n",
    "        logging.info(\"Invalid input. Please enter a valid number.\")\n",
    "        return\n",
    "\n",
    "    numbers = list(range(1, num + 1))\n",
    "\n",
    "\n",
    "    # Create two threads\n",
    "    square_thread = threading.Thread(target=square, args=(numbers,))\n",
    "    cube_thread = threading.Thread(target=cube, args=(numbers,))\n",
    "\n",
    "\n",
    "    # Start the threads\n",
    "    square_thread.start()\n",
    "    cube_thread.start()\n",
    "\n",
    "    # Wait for both threads to finish\n",
    "    square_thread.join()\n",
    "    cube_thread.join()\n",
    "\n",
    "    logging.info(\"Both threads have finished.\")\n",
    "    \n",
    "if __name__ == \"__main__\":\n",
    "    main()\n",
    "\n",
    "\n",
    "\n",
    "\n",
    "    "
   ]
  },
  {
   "cell_type": "markdown",
   "id": "53a1c50a",
   "metadata": {},
   "source": [
    "Q5. State advantages and disadvantages of multithreading."
   ]
  },
  {
   "cell_type": "markdown",
   "id": "41a5f434",
   "metadata": {},
   "source": [
    "# Advantages of Multithreading:\n",
    "\n",
    "Concurrency: Multithreading allows multiple tasks to run concurrently, improving the overall throughput and responsiveness of a program. This is particularly beneficial for programs that involve I/O operations, such as reading/writing files or network communication, as it allows other threads to continue working while one thread is blocked.\n",
    "\n",
    "Resource Sharing: Threads within the same process can share data and resources more efficiently than separate processes, which often require more complex inter-process communication mechanisms.\n",
    "\n",
    "Faster Execution: In certain cases, multithreading can lead to faster execution by taking advantage of modern multi-core processors. Threads can be distributed across different cores, enabling parallel processing of tasks.\n",
    "\n",
    "Reduced Memory Overhead: Threads share the memory space of the parent process, which can reduce the memory overhead compared to separate processes that have their own memory space.\n",
    "\n",
    "Responsive User Interfaces: Multithreading can keep the user interface of an application responsive even when performing time-consuming tasks in the background, ensuring a smoother user experience.\n",
    "\n",
    "Modular Design: Multithreading allows you to design programs in a more modular way, with different threads responsible for different tasks. This can lead to cleaner and more organized code.\n",
    "\n",
    "# Disadvantages of Multithreading:\n",
    "\n",
    "Complexity: Multithreaded programs can be more complex to design, implement, and debug compared to single-threaded programs. Dealing with shared resources and synchronization can introduce subtle bugs like deadlocks and race conditions.\n",
    "\n",
    "Synchronization Overhead: When multiple threads access shared resources, proper synchronization mechanisms (locks, semaphores, etc.) are required to avoid conflicts. These mechanisms can introduce overhead and potentially reduce performance gains.\n",
    "\n",
    "Resource Contention: Threads competing for shared resources can lead to resource contention, which can result in performance degradation if not managed properly.\n",
    "\n",
    "Debugging and Testing: Debugging multithreaded programs can be challenging, as issues like race conditions might only occur intermittently and can be difficult to reproduce and diagnose.\n",
    "\n",
    "Portability and Compatibility: Multithreading may be more challenging to implement in some programming languages or environments. Additionally, not all applications can benefit equally from multithreading due to their nature or design constraints.\n",
    "\n",
    "Potential for Performance Degradation: In certain cases, due to overhead associated with thread creation, synchronization, and context switching, multithreading might not lead to significant performance improvements and can even result in slower execution.\n",
    "\n",
    "Security Risks: Multithreading can introduce security vulnerabilities if not properly managed, such as data races and unauthorized access to shared resources."
   ]
  },
  {
   "cell_type": "markdown",
   "id": "4aafec63",
   "metadata": {},
   "source": [
    "Q6. Explain deadlocks and race conditions."
   ]
  },
  {
   "cell_type": "markdown",
   "id": "3a42a89d",
   "metadata": {},
   "source": [
    "# Deadlocks:\n",
    "\n",
    "A deadlock is a situation in which two or more threads or processes are unable to proceed because each is waiting for the other to release a resource. In other words, it's a circular waiting condition where threads become stuck in a state of inactivity. Deadlocks typically occur when the following four conditions are met:\n",
    "\n",
    "Mutual Exclusion: At least one resource must be held in a non-sharable mode, meaning only one thread or process can access it at a time.\n",
    "\n",
    "Hold and Wait: A thread holds one or more resources while waiting to acquire additional resources.\n",
    "\n",
    "No Preemption: Resources cannot be forcibly taken away from a thread that is holding them. They can only be released voluntarily.\n",
    "\n",
    "Circular Wait: A circular chain of two or more threads exists, where each thread is waiting for a resource that's held by another thread in the chain."
   ]
  },
  {
   "cell_type": "markdown",
   "id": "384519a8",
   "metadata": {},
   "source": [
    "# Race Conditions:\n",
    "\n",
    "A race condition occurs when the behavior of a program depends on the relative timing of events. It arises when multiple threads or processes access shared resources or variables concurrently, and the final outcome depends on the order in which the operations are executed. Race conditions can lead to unexpected and incorrect results.\n",
    "\n",
    "Race conditions can manifest in various ways, such as:\n",
    "\n",
    "Read-Modify-Write Operations: When multiple threads perform read-modify-write operations on a shared variable concurrently, the final value can be different from what each thread expected.\n",
    "\n",
    "Unintended Interleaving: When threads interleave their execution in an unexpected order, leading to incorrect or unpredictable outcomes.\n",
    "\n",
    "Lost Updates: If one thread overwrites the changes made by another thread before they are written back to memory, the changes can be lost."
   ]
  },
  {
   "cell_type": "code",
   "execution_count": null,
   "id": "dcbb8525",
   "metadata": {},
   "outputs": [],
   "source": []
  }
 ],
 "metadata": {
  "kernelspec": {
   "display_name": "Python 3 (ipykernel)",
   "language": "python",
   "name": "python3"
  },
  "language_info": {
   "codemirror_mode": {
    "name": "ipython",
    "version": 3
   },
   "file_extension": ".py",
   "mimetype": "text/x-python",
   "name": "python",
   "nbconvert_exporter": "python",
   "pygments_lexer": "ipython3",
   "version": "3.11.4"
  }
 },
 "nbformat": 4,
 "nbformat_minor": 5
}
